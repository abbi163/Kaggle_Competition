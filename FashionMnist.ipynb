{
  "nbformat": 4,
  "nbformat_minor": 0,
  "metadata": {
    "colab": {
      "name": "FashionMnist.ipynb",
      "version": "0.3.2",
      "provenance": [],
      "include_colab_link": true
    },
    "kernelspec": {
      "name": "python3",
      "display_name": "Python 3"
    }
  },
  "cells": [
    {
      "cell_type": "markdown",
      "metadata": {
        "id": "view-in-github",
        "colab_type": "text"
      },
      "source": [
        "<a href=\"https://colab.research.google.com/github/abbi163/Kaggle_competition/blob/master/FashionMnist.ipynb\" target=\"_parent\"><img src=\"https://colab.research.google.com/assets/colab-badge.svg\" alt=\"Open In Colab\"/></a>"
      ]
    },
    {
      "metadata": {
        "id": "YCwAuL4AyeYJ",
        "colab_type": "text"
      },
      "cell_type": "markdown",
      "source": [
        "**Fashion MNIST Dataset Download**"
      ]
    },
    {
      "metadata": {
        "id": "Aj7lZeOPyE9u",
        "colab_type": "code",
        "colab": {}
      },
      "cell_type": "code",
      "source": [
        "from keras.datasets import fashion_mnist\n",
        "\n",
        "(X_train, y_train), (X_test, y_test) = fashion_mnist.load_data()"
      ],
      "execution_count": 0,
      "outputs": []
    },
    {
      "metadata": {
        "id": "ESH5mv4synQA",
        "colab_type": "code",
        "colab": {
          "base_uri": "https://localhost:8080/",
          "height": 51
        },
        "outputId": "e858a68d-ce2c-4183-8c00-1440ad8a8397"
      },
      "cell_type": "code",
      "source": [
        "# size of test and train set !\n",
        "print('total training examples:', X_train.shape[0],',   X_train shape: ',X_train.shape)\n",
        "print('total testing example  :',X_test.shape[0], ',   X_test shape: ', X_test.shape)"
      ],
      "execution_count": 54,
      "outputs": [
        {
          "output_type": "stream",
          "text": [
            "total training examples: 60000 ,   X_train shape:  (60000, 28, 28)\n",
            "total testing example  : 10000 ,   X_test shape:  (10000, 28, 28)\n"
          ],
          "name": "stdout"
        }
      ]
    },
    {
      "metadata": {
        "id": "sy5J5nzI6mSS",
        "colab_type": "code",
        "colab": {}
      },
      "cell_type": "code",
      "source": [
        "# Reshaping X_train and X_test !\n",
        "\n",
        "X_train = X_train.reshape(X_train.shape[0], X_train.shape[1], X_train.shape[2], 1)\n",
        "X_test  = X_test.reshape(X_test.shape[0], X_test.shape[1], X_test.shape[2], 1)\n"
      ],
      "execution_count": 0,
      "outputs": []
    },
    {
      "metadata": {
        "id": "Cpc-EjjHysVN",
        "colab_type": "code",
        "colab": {}
      },
      "cell_type": "code",
      "source": [
        "# Necessary Imports !\n",
        "\n",
        "import pandas as pd\n",
        "import numpy as np\n",
        "import matplotlib.pyplot as plt"
      ],
      "execution_count": 0,
      "outputs": []
    },
    {
      "metadata": {
        "id": "i-jXmET1yviv",
        "colab_type": "code",
        "colab": {
          "base_uri": "https://localhost:8080/",
          "height": 364
        },
        "outputId": "fc671304-75c0-47f2-b824-c0623d4bcd11"
      },
      "cell_type": "code",
      "source": [
        "# Looking at a random training example. \n",
        "random_plot = X_train[2].reshape(28,28)\n",
        "plt.imshow(random_plot)\n"
      ],
      "execution_count": 57,
      "outputs": [
        {
          "output_type": "execute_result",
          "data": {
            "text/plain": [
              "<matplotlib.image.AxesImage at 0x7f04d1fb5358>"
            ]
          },
          "metadata": {
            "tags": []
          },
          "execution_count": 57
        },
        {
          "output_type": "display_data",
          "data": {
            "image/png": "[encoded data removed]",
            "text/plain": [
              "<Figure size 576x396 with 1 Axes>"
            ]
          },
          "metadata": {
            "tags": []
          }
        }
      ]
    },
    {
      "metadata": {
        "id": "kMgXhdG849XP",
        "colab_type": "text"
      },
      "cell_type": "markdown",
      "source": [
        "We will be using **Convolution Neural Network** for our Analysis and will do hyper parameter tuning if needed ! "
      ]
    },
    {
      "metadata": {
        "id": "TUCtxb3W10Sj",
        "colab_type": "code",
        "colab": {
          "base_uri": "https://localhost:8080/",
          "height": 136
        },
        "outputId": "3f1c419d-b378-4951-c135-c9f8d71ead32"
      },
      "cell_type": "code",
      "source": [
        "from keras.utils import to_categorical\n",
        "#one-hot encode target column\n",
        "y_train = to_categorical(y_train)\n",
        "y_test = to_categorical(y_test)\n",
        "y_train\n",
        "\n"
      ],
      "execution_count": 58,
      "outputs": [
        {
          "output_type": "execute_result",
          "data": {
            "text/plain": [
              "array([[0., 0., 0., ..., 0., 0., 1.],\n",
              "       [1., 0., 0., ..., 0., 0., 0.],\n",
              "       [1., 0., 0., ..., 0., 0., 0.],\n",
              "       ...,\n",
              "       [0., 0., 0., ..., 0., 0., 0.],\n",
              "       [1., 0., 0., ..., 0., 0., 0.],\n",
              "       [0., 0., 0., ..., 0., 0., 0.]], dtype=float32)"
            ]
          },
          "metadata": {
            "tags": []
          },
          "execution_count": 58
        }
      ]
    },
    {
      "metadata": {
        "id": "hGnxPCsM535Z",
        "colab_type": "text"
      },
      "cell_type": "markdown",
      "source": [
        "*Here if we see y_train then it's in array form with 10 values. *"
      ]
    },
    {
      "metadata": {
        "id": "XCOjzBg158tS",
        "colab_type": "code",
        "colab": {
          "base_uri": "https://localhost:8080/",
          "height": 34
        },
        "outputId": "45b9b2b3-3772-4ba3-9557-9356131f383b"
      },
      "cell_type": "code",
      "source": [
        "y_train.shape"
      ],
      "execution_count": 59,
      "outputs": [
        {
          "output_type": "execute_result",
          "data": {
            "text/plain": [
              "(60000, 10)"
            ]
          },
          "metadata": {
            "tags": []
          },
          "execution_count": 59
        }
      ]
    },
    {
      "metadata": {
        "id": "-hEuzOVy1-Uu",
        "colab_type": "code",
        "colab": {}
      },
      "cell_type": "code",
      "source": [
        "from keras.models import Sequential\n",
        "from keras.layers import Dense, Conv2D, Flatten "
      ],
      "execution_count": 0,
      "outputs": []
    },
    {
      "metadata": {
        "id": "0RIvZVWp6RUU",
        "colab_type": "text"
      },
      "cell_type": "markdown",
      "source": [
        "***Creating CNN Model***"
      ]
    },
    {
      "metadata": {
        "id": "IL_IZZze5c85",
        "colab_type": "code",
        "colab": {
          "base_uri": "https://localhost:8080/",
          "height": 391
        },
        "outputId": "0e8e4458-9d3a-432a-8528-1d3f4b42a3bc"
      },
      "cell_type": "code",
      "source": [
        "model = Sequential()\n",
        "\n",
        "# add more layers !\n",
        "model.add(Conv2D(64, kernel_size=3, activation='relu', input_shape=(28,28,1)))\n",
        "model.add(Conv2D(32, kernel_size=3, activation='relu'))\n",
        "model.add(Flatten())\n",
        "model.add(Dense(10, activation='softmax'))\n",
        "#compile model using accuracy to measure model performance\n",
        "model.compile(optimizer='adam', loss='categorical_crossentropy', metrics=['accuracy'])\n",
        "\n",
        "# Training the model !\n",
        "\n",
        "#train the model\n",
        "model.fit(X_train, y_train,  epochs=10, validation_data=(X_test, y_test))\n"
      ],
      "execution_count": 61,
      "outputs": [
        {
          "output_type": "stream",
          "text": [
            "Train on 60000 samples, validate on 10000 samples\n",
            "Epoch 1/10\n",
            "60000/60000 [==============================] - 198s 3ms/step - loss: 2.2104 - acc: 0.7450 - val_loss: 0.4820 - val_acc: 0.8305\n",
            "Epoch 2/10\n",
            "60000/60000 [==============================] - 199s 3ms/step - loss: 0.3655 - acc: 0.8682 - val_loss: 0.4361 - val_acc: 0.8587\n",
            "Epoch 3/10\n",
            "60000/60000 [==============================] - 199s 3ms/step - loss: 0.2957 - acc: 0.8911 - val_loss: 0.3777 - val_acc: 0.8722\n",
            "Epoch 4/10\n",
            "60000/60000 [==============================] - 198s 3ms/step - loss: 0.2562 - acc: 0.9059 - val_loss: 0.3835 - val_acc: 0.8696\n",
            "Epoch 5/10\n",
            "60000/60000 [==============================] - 198s 3ms/step - loss: 0.2219 - acc: 0.9171 - val_loss: 0.3976 - val_acc: 0.8768\n",
            "Epoch 6/10\n",
            "60000/60000 [==============================] - 198s 3ms/step - loss: 0.1967 - acc: 0.9257 - val_loss: 0.4112 - val_acc: 0.8767\n",
            "Epoch 7/10\n",
            "60000/60000 [==============================] - 197s 3ms/step - loss: 0.1785 - acc: 0.9332 - val_loss: 0.4461 - val_acc: 0.8722\n",
            "Epoch 8/10\n",
            "60000/60000 [==============================] - 197s 3ms/step - loss: 0.1586 - acc: 0.9403 - val_loss: 0.4619 - val_acc: 0.8730\n",
            "Epoch 9/10\n",
            "60000/60000 [==============================] - 197s 3ms/step - loss: 0.1411 - acc: 0.9477 - val_loss: 0.5091 - val_acc: 0.8725\n",
            "Epoch 10/10\n",
            "60000/60000 [==============================] - 197s 3ms/step - loss: 0.1316 - acc: 0.9518 - val_loss: 0.5769 - val_acc: 0.8589\n"
          ],
          "name": "stdout"
        },
        {
          "output_type": "execute_result",
          "data": {
            "text/plain": [
              "<keras.callbacks.History at 0x7f04d1cddd30>"
            ]
          },
          "metadata": {
            "tags": []
          },
          "execution_count": 61
        }
      ]
    },
    {
      "metadata": {
        "id": "2xyfrXpBEBPN",
        "colab_type": "code",
        "colab": {}
      },
      "cell_type": "code",
      "source": [
        ""
      ],
      "execution_count": 0,
      "outputs": []
    }
  ]
}