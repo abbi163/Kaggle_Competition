{
 "cells": [
  {
   "cell_type": "code",
   "execution_count": 1,
   "metadata": {},
   "outputs": [],
   "source": [
    "# This Python 3 environment comes with many helpful analytics libraries installed\n",
    "# It is defined by the kaggle/python docker image: https://github.com/kaggle/docker-python\n",
    "# For example, here's several helpful packages to load in \n",
    "\n",
    "import numpy as np # linear algebra\n",
    "import pandas as pd # data processing, CSV file I/O (e.g. pd.read_csv)\n",
    "\n",
    "# Input data files are available in the \"../input/\" directory.\n",
    "# For example, running this (by clicking run or pressing Shift+Enter) will list the files in the input directory\n",
    "\n",
    "import os\n",
    "# print(os.listdir(\"../input\"))\n",
    "\n",
    "# Any results you write to the current directory are saved as output."
   ]
  },
  {
   "cell_type": "code",
   "execution_count": 2,
   "metadata": {},
   "outputs": [
    {
     "name": "stdout",
     "output_type": "stream",
     "text": [
      "(28000, 784)\n",
      "(42000, 784)\n"
     ]
    }
   ],
   "source": [
    "# Defining Training and Testing set !!\n",
    "train_df = pd.read_csv('train.csv')\n",
    "test_df = pd.read_csv('test.csv')\n",
    "\n",
    "train = train_df.values\n",
    "test = test_df.values\n",
    "\n",
    "X_train = train[: , 1:]\n",
    "y_train = train[:, :1].ravel()\n",
    "X_test = test\n",
    "\n",
    "print(X_test.shape)\n",
    "print(X_train.shape)"
   ]
  },
  {
   "cell_type": "markdown",
   "metadata": {},
   "source": [
    "#### Light_GBM"
   ]
  },
  {
   "cell_type": "code",
   "execution_count": 3,
   "metadata": {},
   "outputs": [],
   "source": [
    "# # Training of the features !!\n",
    "# # Using Light GBM!!\n",
    "# # Light GBM\n",
    "\n",
    "# from lightgbm import LGBMClassifier\n",
    "# model = LGBMClassifier(n_estimators=500, random_state=3).fit(X_train, y_train)\n",
    "\n",
    "# y_hat_lgm = model.predict(X_test)"
   ]
  },
  {
   "cell_type": "markdown",
   "metadata": {},
   "source": [
    "#### XGBoost"
   ]
  },
  {
   "cell_type": "code",
   "execution_count": 8,
   "metadata": {},
   "outputs": [],
   "source": [
    "# # Training of the features !!\n",
    "# # Using XGboost !!\n",
    "# # XGboost\n",
    "# from xgboost import XGBClassifier\n",
    "# model_xgb = XGBClassifier(max_depth=5, n_estimators=300, learning_rate=0.05).fit(X_train,y_train.ravel())\n"
   ]
  },
  {
   "cell_type": "markdown",
   "metadata": {},
   "source": [
    "#### Keras "
   ]
  },
  {
   "cell_type": "code",
   "execution_count": null,
   "metadata": {},
   "outputs": [
    {
     "name": "stdout",
     "output_type": "stream",
     "text": [
      "Epoch 1/100\n",
      "42000/42000 [==============================] - 5s 114us/step - loss: 12.2685 - acc: 0.2379\n",
      "Epoch 2/100\n",
      "42000/42000 [==============================] - 5s 115us/step - loss: 12.4174 - acc: 0.2295\n",
      "Epoch 3/100\n",
      "42000/42000 [==============================] - 5s 125us/step - loss: 14.6617 - acc: 0.0904\n",
      "Epoch 4/100\n",
      "42000/42000 [==============================] - 5s 125us/step - loss: 14.6617 - acc: 0.0904\n",
      "Epoch 5/100\n",
      "42000/42000 [==============================] - 4s 102us/step - loss: 14.6617 - acc: 0.0904\n",
      "Epoch 6/100\n",
      "42000/42000 [==============================] - 4s 101us/step - loss: 14.6617 - acc: 0.0904\n",
      "Epoch 7/100\n",
      "42000/42000 [==============================] - 5s 118us/step - loss: 14.6617 - acc: 0.0904\n",
      "Epoch 8/100\n",
      "42000/42000 [==============================] - 5s 114us/step - loss: 14.6617 - acc: 0.0904\n",
      "Epoch 9/100\n",
      "42000/42000 [==============================] - 5s 116us/step - loss: 14.6617 - acc: 0.0904\n",
      "Epoch 10/100\n",
      "42000/42000 [==============================] - 5s 119us/step - loss: 14.6617 - acc: 0.0904\n",
      "Epoch 11/100\n",
      "42000/42000 [==============================] - 5s 121us/step - loss: 14.6617 - acc: 0.0904\n",
      "Epoch 12/100\n",
      "42000/42000 [==============================] - 5s 118us/step - loss: 14.6617 - acc: 0.0904\n",
      "Epoch 13/100\n",
      "42000/42000 [==============================] - 5s 124us/step - loss: 14.6617 - acc: 0.0904\n",
      "Epoch 14/100\n",
      "42000/42000 [==============================] - 5s 131us/step - loss: 14.6617 - acc: 0.0904\n",
      "Epoch 15/100\n",
      "42000/42000 [==============================] - 5s 109us/step - loss: 14.6617 - acc: 0.0904\n",
      "Epoch 16/100\n",
      "42000/42000 [==============================] - 4s 102us/step - loss: 14.6617 - acc: 0.0904\n",
      "Epoch 17/100\n",
      "42000/42000 [==============================] - 4s 102us/step - loss: 14.6617 - acc: 0.0904\n",
      "Epoch 18/100\n",
      "42000/42000 [==============================] - 4s 103us/step - loss: 14.6617 - acc: 0.0904\n",
      "Epoch 19/100\n",
      "42000/42000 [==============================] - 5s 110us/step - loss: 14.6617 - acc: 0.0904\n",
      "Epoch 20/100\n",
      "42000/42000 [==============================] - 5s 116us/step - loss: 14.6617 - acc: 0.0904\n",
      "Epoch 21/100\n",
      "42000/42000 [==============================] - 5s 125us/step - loss: 14.6617 - acc: 0.0904\n",
      "Epoch 22/100\n",
      "42000/42000 [==============================] - 5s 130us/step - loss: 14.6617 - acc: 0.0904\n",
      "Epoch 23/100\n",
      "42000/42000 [==============================] - 4s 104us/step - loss: 14.6617 - acc: 0.0904\n",
      "Epoch 24/100\n",
      "42000/42000 [==============================] - 6s 136us/step - loss: 14.6617 - acc: 0.0904\n",
      "Epoch 25/100\n",
      "42000/42000 [==============================] - 5s 109us/step - loss: 14.6617 - acc: 0.0904\n",
      "Epoch 26/100\n",
      "42000/42000 [==============================] - 6s 135us/step - loss: 14.6617 - acc: 0.0904\n",
      "Epoch 27/100\n",
      "42000/42000 [==============================] - 4s 104us/step - loss: 14.6617 - acc: 0.0904\n",
      "Epoch 28/100\n",
      "42000/42000 [==============================] - 5s 108us/step - loss: 14.6617 - acc: 0.0904\n",
      "Epoch 29/100\n",
      "42000/42000 [==============================] - 4s 107us/step - loss: 14.6617 - acc: 0.0904\n",
      "Epoch 30/100\n",
      "42000/42000 [==============================] - 5s 120us/step - loss: 14.6617 - acc: 0.0904\n",
      "Epoch 31/100\n",
      "42000/42000 [==============================] - 4s 102us/step - loss: 14.6617 - acc: 0.0904\n",
      "Epoch 32/100\n",
      "42000/42000 [==============================] - 5s 107us/step - loss: 14.6617 - acc: 0.0904\n",
      "Epoch 33/100\n",
      "42000/42000 [==============================] - 4s 106us/step - loss: 14.6617 - acc: 0.0904\n",
      "Epoch 34/100\n",
      "42000/42000 [==============================] - 5s 109us/step - loss: 14.6617 - acc: 0.0904\n",
      "Epoch 35/100\n",
      "42000/42000 [==============================] - 5s 116us/step - loss: 14.6617 - acc: 0.0904\n",
      "Epoch 36/100\n",
      "42000/42000 [==============================] - 5s 111us/step - loss: 14.6617 - acc: 0.0904\n",
      "Epoch 37/100\n",
      "42000/42000 [==============================] - 5s 112us/step - loss: 14.6617 - acc: 0.0904\n",
      "Epoch 38/100\n",
      "42000/42000 [==============================] - 5s 109us/step - loss: 14.6617 - acc: 0.0904\n",
      "Epoch 39/100\n",
      "42000/42000 [==============================] - 5s 108us/step - loss: 14.6617 - acc: 0.0904\n",
      "Epoch 40/100\n",
      "42000/42000 [==============================] - 5s 109us/step - loss: 14.6617 - acc: 0.0904\n",
      "Epoch 41/100\n",
      "42000/42000 [==============================] - 5s 108us/step - loss: 14.6617 - acc: 0.0904\n",
      "Epoch 42/100\n",
      "42000/42000 [==============================] - 5s 111us/step - loss: 14.6617 - acc: 0.0904\n",
      "Epoch 43/100\n",
      "42000/42000 [==============================] - 5s 108us/step - loss: 14.6617 - acc: 0.0904\n",
      "Epoch 44/100\n",
      "42000/42000 [==============================] - 5s 115us/step - loss: 14.6617 - acc: 0.0904\n",
      "Epoch 45/100\n",
      "42000/42000 [==============================] - 5s 107us/step - loss: 14.6617 - acc: 0.0904\n",
      "Epoch 46/100\n",
      "42000/42000 [==============================] - 4s 106us/step - loss: 14.6617 - acc: 0.0904\n",
      "Epoch 47/100\n",
      "42000/42000 [==============================] - 4s 105us/step - loss: 14.6617 - acc: 0.0904\n",
      "Epoch 48/100\n",
      "42000/42000 [==============================] - 4s 107us/step - loss: 14.6617 - acc: 0.0904\n",
      "Epoch 49/100\n",
      "42000/42000 [==============================] - 5s 117us/step - loss: 14.6617 - acc: 0.0904\n",
      "Epoch 50/100\n",
      "20480/42000 [=============>................] - ETA: 2s - loss: 14.7070 - acc: 0.0875"
     ]
    }
   ],
   "source": [
    "# Training of the features !!\n",
    "# Using Keras Neural Network !!\n",
    "# Keras\n",
    "from keras import Sequential\n",
    "from keras.layers import Dense\n",
    "\n",
    "classifier = Sequential()\n",
    "#First Hidden Layer\n",
    "classifier.add(Dense(100, activation='relu', kernel_initializer='random_normal', input_dim = 784))\n",
    "#Second  Hidden Layer\n",
    "classifier.add(Dense(200, activation='relu', kernel_initializer='random_normal'))\n",
    "#Output Layer\n",
    "classifier.add(Dense(10, activation='softmax', kernel_initializer='random_normal'))\n",
    "#Compiling the neural network\n",
    "classifier.compile(optimizer ='adam',loss='sparse_categorical_crossentropy', metrics =['accuracy'])\n",
    "\n",
    "#Fitting the data to the training dataset\n",
    "classifier.fit(X_train,y_train, batch_size=10, epochs=100)"
   ]
  },
  {
   "cell_type": "code",
   "execution_count": 1,
   "metadata": {},
   "outputs": [
    {
     "ename": "NameError",
     "evalue": "name 'classifier' is not defined",
     "output_type": "error",
     "traceback": [
      "\u001b[0;31m---------------------------------------------------------------------------\u001b[0m",
      "\u001b[0;31mNameError\u001b[0m                                 Traceback (most recent call last)",
      "\u001b[0;32m<ipython-input-1-e5cbea009e6f>\u001b[0m in \u001b[0;36m<module>\u001b[0;34m\u001b[0m\n\u001b[1;32m      2\u001b[0m \u001b[0;34m\u001b[0m\u001b[0m\n\u001b[1;32m      3\u001b[0m \u001b[0;31m#y_hat_xgb = model_xgb.predict(X_test)\u001b[0m\u001b[0;34m\u001b[0m\u001b[0;34m\u001b[0m\u001b[0;34m\u001b[0m\u001b[0m\n\u001b[0;32m----> 4\u001b[0;31m \u001b[0my_hat_keras\u001b[0m \u001b[0;34m=\u001b[0m \u001b[0mclassifier\u001b[0m\u001b[0;34m.\u001b[0m\u001b[0mpredict\u001b[0m\u001b[0;34m(\u001b[0m\u001b[0mX_test\u001b[0m\u001b[0;34m)\u001b[0m\u001b[0;34m\u001b[0m\u001b[0;34m\u001b[0m\u001b[0m\n\u001b[0m\u001b[1;32m      5\u001b[0m \u001b[0msample_submission\u001b[0m \u001b[0;34m=\u001b[0m \u001b[0;34m[\u001b[0m\u001b[0;34m]\u001b[0m\u001b[0;34m\u001b[0m\u001b[0;34m\u001b[0m\u001b[0m\n\u001b[1;32m      6\u001b[0m \u001b[0;32mfor\u001b[0m \u001b[0mi\u001b[0m \u001b[0;32min\u001b[0m \u001b[0mrange\u001b[0m\u001b[0;34m(\u001b[0m\u001b[0mlen\u001b[0m\u001b[0;34m(\u001b[0m\u001b[0my_hat_keras\u001b[0m\u001b[0;34m)\u001b[0m\u001b[0;34m)\u001b[0m\u001b[0;34m:\u001b[0m\u001b[0;34m\u001b[0m\u001b[0;34m\u001b[0m\u001b[0m\n",
      "\u001b[0;31mNameError\u001b[0m: name 'classifier' is not defined"
     ]
    }
   ],
   "source": [
    "\n",
    "\n",
    "#y_hat_xgb = model_xgb.predict(X_test)\n",
    "y_hat_keras = classifier.predict(X_test)\n",
    "sample_submission = []\n",
    "for i in range(len(y_hat_keras)):\n",
    "    sample_submission.append((i+1 , np.argmax(y_hat_keras[i])))\n",
    "    \n",
    "df = pd.DataFrame(columns = ['ImageId' , 'Label'] , data =  sample_submission)\n"
   ]
  },
  {
   "cell_type": "code",
   "execution_count": null,
   "metadata": {},
   "outputs": [],
   "source": [
    "df.head()\n"
   ]
  },
  {
   "cell_type": "code",
   "execution_count": null,
   "metadata": {},
   "outputs": [],
   "source": [
    "df.to_csv('sample_submission_Keras_sequential.csv', index = None)"
   ]
  },
  {
   "cell_type": "code",
   "execution_count": null,
   "metadata": {},
   "outputs": [],
   "source": []
  }
 ],
 "metadata": {
  "kernelspec": {
   "display_name": "Python 3",
   "language": "python",
   "name": "python3"
  },
  "language_info": {
   "codemirror_mode": {
    "name": "ipython",
    "version": 3
   },
   "file_extension": ".py",
   "mimetype": "text/x-python",
   "name": "python",
   "nbconvert_exporter": "python",
   "pygments_lexer": "ipython3",
   "version": "3.7.2"
  }
 },
 "nbformat": 4,
 "nbformat_minor": 2
}
