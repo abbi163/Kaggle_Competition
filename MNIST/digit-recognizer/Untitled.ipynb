{
 "cells": [
  {
   "cell_type": "code",
   "execution_count": 33,
   "metadata": {},
   "outputs": [],
   "source": [
    "# This Python 3 environment comes with many helpful analytics libraries installed\n",
    "# It is defined by the kaggle/python docker image: https://github.com/kaggle/docker-python\n",
    "# For example, here's several helpful packages to load in \n",
    "\n",
    "import numpy as np # linear algebra\n",
    "import pandas as pd # data processing, CSV file I/O (e.g. pd.read_csv)\n",
    "\n",
    "# Input data files are available in the \"../input/\" directory.\n",
    "# For example, running this (by clicking run or pressing Shift+Enter) will list the files in the input directory\n",
    "import keras\n",
    "import os\n",
    "import matplotlib.pyplot as plt\n",
    "# print(os.listdir(\"../input\"))\n",
    "\n",
    "# Any results you write to the current directory are saved as output.\n",
    "\n",
    "# mnist = keras.datasets.mnist\n",
    "\n",
    "# (train_images, train_labels), (test_images, test_labels) = mnist.load_data()\n"
   ]
  },
  {
   "cell_type": "markdown",
   "metadata": {},
   "source": [
    "### Using Convulation Neural Network !!"
   ]
  },
  {
   "cell_type": "code",
   "execution_count": 34,
   "metadata": {},
   "outputs": [
    {
     "name": "stdout",
     "output_type": "stream",
     "text": [
      "(28000, 784)\n",
      "(42000, 784)\n"
     ]
    }
   ],
   "source": [
    "# Defining Training and Testing set !!\n",
    "train_df = pd.read_csv('train.csv')\n",
    "test_df = pd.read_csv('test.csv')\n",
    "\n",
    "train = train_df.values\n",
    "test = test_df.values\n",
    "\n",
    "X_train = train[: , 1:]\n",
    "y_train = train[:, :1].ravel()\n",
    "X_test = test\n",
    "\n",
    "print(X_test.shape)\n",
    "print(X_train.shape)"
   ]
  },
  {
   "cell_type": "markdown",
   "metadata": {},
   "source": [
    "#### Light_GBM"
   ]
  },
  {
   "cell_type": "code",
   "execution_count": 35,
   "metadata": {},
   "outputs": [],
   "source": [
    "# # Training of the features !!\n",
    "# # Using Light GBM!!\n",
    "# # Light GBM\n",
    "\n",
    "# from lightgbm import LGBMClassifier\n",
    "# model = LGBMClassifier(n_estimators=500, random_state=3).fit(X_train, y_train)\n",
    "\n",
    "# y_hat_lgm = model.predict(X_test)"
   ]
  },
  {
   "cell_type": "markdown",
   "metadata": {},
   "source": [
    "#### XGBoost"
   ]
  },
  {
   "cell_type": "code",
   "execution_count": 36,
   "metadata": {},
   "outputs": [],
   "source": [
    "# # Training of the features !!\n",
    "# # Using XGboost !!\n",
    "# # XGboost\n",
    "# from xgboost import XGBClassifier\n",
    "# model_xgb = XGBClassifier(max_depth=5, n_estimators=300, learning_rate=0.05).fit(X_train,y_train.ravel())\n"
   ]
  },
  {
   "cell_type": "markdown",
   "metadata": {},
   "source": [
    "#### Keras "
   ]
  },
  {
   "cell_type": "code",
   "execution_count": 37,
   "metadata": {},
   "outputs": [],
   "source": [
    "# # Training of the features !!\n",
    "# # Using Keras Neural Network !!\n",
    "# # Keras\n",
    "# from keras import Sequential\n",
    "# from keras.layers import Dense\n",
    "\n",
    "# classifier = Sequential()\n",
    "# #First Hidden Layer\n",
    "# classifier.add(Dense(100, activation='relu', kernel_initializer='random_normal', input_dim = 784))\n",
    "# #Second  Hidden Layer\n",
    "# classifier.add(Dense(200, activation='relu', kernel_initializer='random_normal'))\n",
    "# #Output Layer\n",
    "# classifier.add(Dense(10, activation='softmax', kernel_initializer='random_normal'))\n",
    "# #Compiling the neural network\n",
    "# classifier.compile(optimizer ='adam',loss='sparse_categorical_crossentropy', metrics =['accuracy'])\n",
    "\n",
    "# #Fitting the data to the training dataset\n",
    "# classifier.fit(X_train,y_train, batch_size=10, epochs=100)"
   ]
  },
  {
   "cell_type": "markdown",
   "metadata": {},
   "source": [
    "#### Convulation Neural Network !"
   ]
  },
  {
   "cell_type": "code",
   "execution_count": 40,
   "metadata": {},
   "outputs": [],
   "source": [
    "X_train = X_train.reshape(42000 , 28, 28, 1)\n",
    "X_test  = X_test.reshape(28000 , 28, 28, 1)\n",
    "y_train = y_train.reshape(42000 , 1)"
   ]
  },
  {
   "cell_type": "code",
   "execution_count": null,
   "metadata": {},
   "outputs": [
    {
     "name": "stdout",
     "output_type": "stream",
     "text": [
      "Epoch 1/10\n",
      "42000/42000 [==============================] - 39s 933us/step - loss: 13.2543 - acc: 0.1771\n",
      "Epoch 2/10\n",
      "42000/42000 [==============================] - 39s 939us/step - loss: 13.6636 - acc: 0.1522\n",
      "Epoch 3/10\n",
      "42000/42000 [==============================] - 39s 931us/step - loss: 13.4649 - acc: 0.1646\n",
      "Epoch 4/10\n",
      "42000/42000 [==============================] - 39s 932us/step - loss: 14.5589 - acc: 0.0967\n",
      "Epoch 5/10\n",
      "42000/42000 [==============================] - 40s 947us/step - loss: 14.5589 - acc: 0.0967\n",
      "Epoch 6/10\n",
      "16032/42000 [==========>...................] - ETA: 24s - loss: 14.5618 - acc: 0.0966"
     ]
    }
   ],
   "source": [
    "# One hot encoding !!\n",
    "\n",
    "from keras.utils import to_categorical\n",
    "#one-hot encode target column\n",
    "y_train = to_categorical(y_train)\n",
    "\n",
    "from keras.models import Sequential\n",
    "from keras.layers import Dense, Conv2D, Flatten\n",
    "\n",
    "# Create Model \n",
    "\n",
    "model = Sequential()\n",
    "# add more layers !\n",
    "\n",
    "model.add(Conv2D(64, kernel_size=3, activation='relu', input_shape=(28,28,1)))\n",
    "model.add(Conv2D(32, kernel_size=3, activation='relu'))\n",
    "model.add(Flatten())\n",
    "model.add(Dense(10, activation='softmax'))\n",
    "#compile model using accuracy to measure model performance\n",
    "model.compile(optimizer='adam', loss='categorical_crossentropy', metrics=['accuracy'])\n",
    "\n",
    "# Training the model !\n",
    "\n",
    "#train the model\n",
    "model.fit(X_train, y_train,  epochs=10)\n"
   ]
  },
  {
   "cell_type": "code",
   "execution_count": 1,
   "metadata": {},
   "outputs": [
    {
     "ename": "NameError",
     "evalue": "name 'classifier' is not defined",
     "output_type": "error",
     "traceback": [
      "\u001b[0;31m---------------------------------------------------------------------------\u001b[0m",
      "\u001b[0;31mNameError\u001b[0m                                 Traceback (most recent call last)",
      "\u001b[0;32m<ipython-input-1-e5cbea009e6f>\u001b[0m in \u001b[0;36m<module>\u001b[0;34m\u001b[0m\n\u001b[1;32m      2\u001b[0m \u001b[0;34m\u001b[0m\u001b[0m\n\u001b[1;32m      3\u001b[0m \u001b[0;31m#y_hat_xgb = model_xgb.predict(X_test)\u001b[0m\u001b[0;34m\u001b[0m\u001b[0;34m\u001b[0m\u001b[0;34m\u001b[0m\u001b[0m\n\u001b[0;32m----> 4\u001b[0;31m \u001b[0my_hat_keras\u001b[0m \u001b[0;34m=\u001b[0m \u001b[0mclassifier\u001b[0m\u001b[0;34m.\u001b[0m\u001b[0mpredict\u001b[0m\u001b[0;34m(\u001b[0m\u001b[0mX_test\u001b[0m\u001b[0;34m)\u001b[0m\u001b[0;34m\u001b[0m\u001b[0;34m\u001b[0m\u001b[0m\n\u001b[0m\u001b[1;32m      5\u001b[0m \u001b[0msample_submission\u001b[0m \u001b[0;34m=\u001b[0m \u001b[0;34m[\u001b[0m\u001b[0;34m]\u001b[0m\u001b[0;34m\u001b[0m\u001b[0;34m\u001b[0m\u001b[0m\n\u001b[1;32m      6\u001b[0m \u001b[0;32mfor\u001b[0m \u001b[0mi\u001b[0m \u001b[0;32min\u001b[0m \u001b[0mrange\u001b[0m\u001b[0;34m(\u001b[0m\u001b[0mlen\u001b[0m\u001b[0;34m(\u001b[0m\u001b[0my_hat_keras\u001b[0m\u001b[0;34m)\u001b[0m\u001b[0;34m)\u001b[0m\u001b[0;34m:\u001b[0m\u001b[0;34m\u001b[0m\u001b[0;34m\u001b[0m\u001b[0m\n",
      "\u001b[0;31mNameError\u001b[0m: name 'classifier' is not defined"
     ]
    }
   ],
   "source": [
    "\n",
    "\n",
    "#y_hat_xgb = model_xgb.predict(X_test)\n",
    "y_hat_conv = model.predict(X_test)\n",
    "sample_submission = []\n",
    "for i in range(len(y_hat_conv)):\n",
    "    sample_submission.append((i+1 , np.argmax(y_hat_conv[i])))\n",
    "    \n",
    "df = pd.DataFrame(columns = ['ImageId' , 'Label'] , data =  sample_submission)\n"
   ]
  },
  {
   "cell_type": "code",
   "execution_count": 5,
   "metadata": {},
   "outputs": [],
   "source": [
    "\n",
    "import numpy as np\n"
   ]
  },
  {
   "cell_type": "code",
   "execution_count": null,
   "metadata": {},
   "outputs": [],
   "source": [
    "df.to_csv('sample_submission_Keras_conv.csv', index = None)"
   ]
  },
  {
   "cell_type": "code",
   "execution_count": 6,
   "metadata": {},
   "outputs": [],
   "source": [
    "def init_f(shape, dtype=None):\n",
    "    ker = np.zeros(shape, dtype=dtype)\n",
    "    ker[tuple(map(lambda x: int(np.floor(x/2)), ker.shape))]=1\n",
    "    return ker"
   ]
  },
  {
   "cell_type": "code",
   "execution_count": 8,
   "metadata": {},
   "outputs": [],
   "source": [
    "ker = init_f([3,3])"
   ]
  },
  {
   "cell_type": "code",
   "execution_count": 9,
   "metadata": {},
   "outputs": [
    {
     "data": {
      "text/plain": [
       "array([[0., 0., 0.],\n",
       "       [0., 1., 0.],\n",
       "       [0., 0., 0.]])"
      ]
     },
     "execution_count": 9,
     "metadata": {},
     "output_type": "execute_result"
    }
   ],
   "source": []
  },
  {
   "cell_type": "code",
   "execution_count": null,
   "metadata": {},
   "outputs": [],
   "source": []
  }
 ],
 "metadata": {
  "kernelspec": {
   "display_name": "Python 3",
   "language": "python",
   "name": "python3"
  },
  "language_info": {
   "codemirror_mode": {
    "name": "ipython",
    "version": 3
   },
   "file_extension": ".py",
   "mimetype": "text/x-python",
   "name": "python",
   "nbconvert_exporter": "python",
   "pygments_lexer": "ipython3",
   "version": "3.7.2"
  }
 },
 "nbformat": 4,
 "nbformat_minor": 2
}
